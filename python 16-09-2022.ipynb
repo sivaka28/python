{
  "nbformat": 4,
  "nbformat_minor": 0,
  "metadata": {
    "colab": {
      "provenance": [],
      "collapsed_sections": []
    },
    "kernelspec": {
      "name": "python3",
      "display_name": "Python 3"
    },
    "language_info": {
      "name": "python"
    }
  },
  "cells": [
    {
      "cell_type": "code",
      "execution_count": null,
      "metadata": {
        "id": "mEnrA3cqJ6Rd"
      },
      "outputs": [],
      "source": [
        "5*9"
      ]
    },
    {
      "cell_type": "code",
      "source": [
        "input()\n"
      ],
      "metadata": {
        "id": "7vSSeU5YKE2K"
      },
      "execution_count": null,
      "outputs": []
    },
    {
      "cell_type": "code",
      "source": [
        "usr = input('please enter your name')\n"
      ],
      "metadata": {
        "colab": {
          "base_uri": "https://localhost:8080/"
        },
        "id": "LLOoBYC9LAl-",
        "outputId": "fe8b523e-c660-42aa-9d8b-7ba83b0a02db"
      },
      "execution_count": null,
      "outputs": [
        {
          "name": "stdout",
          "output_type": "stream",
          "text": [
            "please enter your namesiva\n"
          ]
        }
      ]
    },
    {
      "cell_type": "code",
      "source": [
        "print(type(usr))\n",
        "\n"
      ],
      "metadata": {
        "colab": {
          "base_uri": "https://localhost:8080/"
        },
        "id": "BasSC7pCLVux",
        "outputId": "3321ce6d-98be-421e-b94c-2eba2d3e6829"
      },
      "execution_count": null,
      "outputs": [
        {
          "output_type": "stream",
          "name": "stdout",
          "text": [
            "<class 'str'>\n"
          ]
        }
      ]
    },
    {
      "cell_type": "code",
      "source": [
        "age=(int(input('please enter your age')))"
      ],
      "metadata": {
        "colab": {
          "base_uri": "https://localhost:8080/"
        },
        "id": "XPg6kx79MyIk",
        "outputId": "764f634a-0ae7-45e4-cda5-a31b0fc37a90"
      },
      "execution_count": null,
      "outputs": [
        {
          "name": "stdout",
          "output_type": "stream",
          "text": [
            "please enter your age17\n"
          ]
        }
      ]
    },
    {
      "cell_type": "code",
      "source": [
        "print(type(age))\n"
      ],
      "metadata": {
        "colab": {
          "base_uri": "https://localhost:8080/"
        },
        "id": "OKq_JtRGQQYw",
        "outputId": "a0d55ff6-733e-4bbe-bd83-9f490fa4a896"
      },
      "execution_count": null,
      "outputs": [
        {
          "output_type": "stream",
          "name": "stdout",
          "text": [
            "<class 'int'>\n"
          ]
        }
      ]
    },
    {
      "cell_type": "code",
      "source": [
        "usr_name=input('type your name ')\n",
        "usr_age=input('input your age ')\n",
        "print('Your name is',usr_name,'and your age is',usr_age)\n",
        "print('hi')"
      ],
      "metadata": {
        "id": "qzXvOzpKQdiI",
        "colab": {
          "base_uri": "https://localhost:8080/"
        },
        "outputId": "5ee1c7bb-5b06-4b08-f632-b103b321f63f"
      },
      "execution_count": null,
      "outputs": [
        {
          "output_type": "stream",
          "name": "stdout",
          "text": [
            "type your name siva\n",
            "input your age \n",
            "Your name is siva and your age is \n",
            "hi\n"
          ]
        }
      ]
    },
    {
      "cell_type": "code",
      "source": [
        "\n",
        "usr_name=input(' type your name ')\n",
        "usr_age=input(' whats your age ')\n",
        "print('your name is ',usr_name,' and your age is ',usr_age, sep=\"\",end=' ')\n",
        "print('hi')\n"
      ],
      "metadata": {
        "colab": {
          "base_uri": "https://localhost:8080/"
        },
        "id": "ZhjW2O4BU-tn",
        "outputId": "e0f0df80-981d-4d87-f70f-a7b7527fd95c"
      },
      "execution_count": null,
      "outputs": [
        {
          "output_type": "stream",
          "name": "stdout",
          "text": [
            " type your name siva\n",
            " whats your age 17\n",
            "your name is siva and your age is 17 hi\n"
          ]
        }
      ]
    },
    {
      "cell_type": "code",
      "source": [
        "var=20.7\n",
        "print(type(var))"
      ],
      "metadata": {
        "colab": {
          "base_uri": "https://localhost:8080/"
        },
        "id": "l3JnnABSYnyB",
        "outputId": "3042d1bd-e015-411d-ce64-326166ef2069"
      },
      "execution_count": null,
      "outputs": [
        {
          "output_type": "stream",
          "name": "stdout",
          "text": [
            "<class 'float'>\n"
          ]
        }
      ]
    },
    {
      "cell_type": "code",
      "source": [
        "lst_var = [1, 2.0, 'str']\n",
        "print(lst_var)\n",
        "print(type(lst_var))"
      ],
      "metadata": {
        "colab": {
          "base_uri": "https://localhost:8080/"
        },
        "id": "8l5z79G8ap0z",
        "outputId": "f04e143b-f87d-4051-8d3f-75e29160fed1"
      },
      "execution_count": null,
      "outputs": [
        {
          "output_type": "stream",
          "name": "stdout",
          "text": [
            "[1, 2.0, 'str']\n",
            "<class 'list'>\n"
          ]
        }
      ]
    },
    {
      "cell_type": "code",
      "source": [
        "print(16%4)\n"
      ],
      "metadata": {
        "id": "9ccWE5W3c-1T",
        "colab": {
          "base_uri": "https://localhost:8080/"
        },
        "outputId": "60112f6e-eb32-4702-f780-362b59b1ff89"
      },
      "execution_count": null,
      "outputs": [
        {
          "output_type": "stream",
          "name": "stdout",
          "text": [
            "0\n"
          ]
        }
      ]
    },
    {
      "cell_type": "code",
      "source": [
        "print(2**5)"
      ],
      "metadata": {
        "colab": {
          "base_uri": "https://localhost:8080/"
        },
        "id": "ScyhYwOaLFaa",
        "outputId": "ca94011c-c1eb-483a-ae04-4d2bd007a0ff"
      },
      "execution_count": null,
      "outputs": [
        {
          "output_type": "stream",
          "name": "stdout",
          "text": [
            "32\n"
          ]
        }
      ]
    },
    {
      "cell_type": "code",
      "source": [
        "a=24\n",
        "a*=2\n",
        "print(a)"
      ],
      "metadata": {
        "colab": {
          "base_uri": "https://localhost:8080/"
        },
        "id": "giPP2nkXLSvn",
        "outputId": "05493d7a-4b9b-4326-980e-a6600ccaf7ab"
      },
      "execution_count": null,
      "outputs": [
        {
          "output_type": "stream",
          "name": "stdout",
          "text": [
            "48\n"
          ]
        }
      ]
    },
    {
      "cell_type": "code",
      "source": [
        "per_a=17\n",
        "per_b=15\n",
        "if(per_a> 18)and(per_b> 18):  \n",
        "  print(\"let them in\")\n",
        "else:\n",
        "  print(\"come over here\")"
      ],
      "metadata": {
        "colab": {
          "base_uri": "https://localhost:8080/"
        },
        "id": "KAFcPLSXNcZb",
        "outputId": "3cfa9707-eb57-4728-be40-3e7945ef677e"
      },
      "execution_count": null,
      "outputs": [
        {
          "output_type": "stream",
          "name": "stdout",
          "text": [
            "come over here\n"
          ]
        }
      ]
    },
    {
      "cell_type": "code",
      "source": [
        "pers_a=18\n",
        "pers_b=23\n",
        "if(pers_a>=18)and(per_b>=18):\n",
        "elif\n",
        "                  )"
      ],
      "metadata": {
        "id": "6DDYs43RPM4Z"
      },
      "execution_count": null,
      "outputs": []
    },
    {
      "cell_type": "code",
      "source": [
        "lst_var=[23,47,67,89,90,41,24,56,79,25,67]\n",
        "lst_var[4]=101\n",
        "print(lst_var)\n",
        "lst_var[2:6]"
      ],
      "metadata": {
        "colab": {
          "base_uri": "https://localhost:8080/"
        },
        "id": "gvgnn8xaWQG3",
        "outputId": "194835a3-2cdd-46db-efa5-ee94c6f07607"
      },
      "execution_count": null,
      "outputs": [
        {
          "output_type": "stream",
          "name": "stdout",
          "text": [
            "[23, 47, 67, 89, 101, 41, 24, 56, 79, 25, 67]\n"
          ]
        },
        {
          "output_type": "execute_result",
          "data": {
            "text/plain": [
              "[67, 89, 101, 41]"
            ]
          },
          "metadata": {},
          "execution_count": 24
        }
      ]
    },
    {
      "cell_type": "code",
      "source": [
        "ip=input('where are you')\n",
        "print(type(ip))\n",
        " "
      ],
      "metadata": {
        "id": "16V2ZuKUW8CK",
        "colab": {
          "base_uri": "https://localhost:8080/"
        },
        "outputId": "66d045b0-33e8-4f50-e273-650d89d3070f"
      },
      "execution_count": null,
      "outputs": [
        {
          "output_type": "stream",
          "name": "stdout",
          "text": [
            "where are you5\n",
            "<class 'str'>\n"
          ]
        }
      ]
    },
    {
      "cell_type": "code",
      "source": [
        "pokelist=[12,13,14,\"jiggile puff\",\"1\",\"2\"]\n",
        "for poke in pokelist:\n",
        "  print(poke)"
      ],
      "metadata": {
        "colab": {
          "base_uri": "https://localhost:8080/"
        },
        "id": "o8Ln9ON22NFC",
        "outputId": "b7e2c427-ba67-484f-d240-a7066041d1fc"
      },
      "execution_count": null,
      "outputs": [
        {
          "output_type": "stream",
          "name": "stdout",
          "text": [
            "12\n",
            "13\n",
            "14\n",
            "jiggile puff\n",
            "1\n",
            "2\n"
          ]
        }
      ]
    },
    {
      "cell_type": "code",
      "source": [
        "v1=\"pikachu\"\n",
        "v2=\"richu\"\n",
        "for v in v1:\n",
        "  print(v)"
      ],
      "metadata": {
        "colab": {
          "base_uri": "https://localhost:8080/"
        },
        "id": "GQKPxSCj4br6",
        "outputId": "e8bfa988-d2bc-4167-b9ab-d98a425f2af0"
      },
      "execution_count": null,
      "outputs": [
        {
          "output_type": "stream",
          "name": "stdout",
          "text": [
            "p\n",
            "i\n",
            "k\n",
            "a\n",
            "c\n",
            "h\n",
            "u\n"
          ]
        }
      ]
    },
    {
      "cell_type": "code",
      "source": [
        "v1[ :3]"
      ],
      "metadata": {
        "colab": {
          "base_uri": "https://localhost:8080/",
          "height": 37
        },
        "id": "ku-UYBKj7hdb",
        "outputId": "80b19815-8f39-4576-f13e-cdf5277cf13f"
      },
      "execution_count": null,
      "outputs": [
        {
          "output_type": "execute_result",
          "data": {
            "text/plain": [
              "'pik'"
            ],
            "application/vnd.google.colaboratory.intrinsic+json": {
              "type": "string"
            }
          },
          "metadata": {},
          "execution_count": 32
        }
      ]
    },
    {
      "cell_type": "code",
      "source": [
        "v1[-1:-3]"
      ],
      "metadata": {
        "colab": {
          "base_uri": "https://localhost:8080/",
          "height": 37
        },
        "id": "Bkzz-pkA9igs",
        "outputId": "f7a73bd8-ed9f-4172-97e0-bae208031295"
      },
      "execution_count": null,
      "outputs": [
        {
          "output_type": "execute_result",
          "data": {
            "text/plain": [
              "''"
            ],
            "application/vnd.google.colaboratory.intrinsic+json": {
              "type": "string"
            }
          },
          "metadata": {},
          "execution_count": 36
        }
      ]
    },
    {
      "cell_type": "code",
      "source": [
        "v1[ 6:3 :-1]"
      ],
      "metadata": {
        "colab": {
          "base_uri": "https://localhost:8080/",
          "height": 37
        },
        "id": "Ys4iLkwS97t9",
        "outputId": "e53b819a-d195-4daf-f7ba-b106c94593d8"
      },
      "execution_count": null,
      "outputs": [
        {
          "output_type": "execute_result",
          "data": {
            "text/plain": [
              "'uhc'"
            ],
            "application/vnd.google.colaboratory.intrinsic+json": {
              "type": "string"
            }
          },
          "metadata": {},
          "execution_count": 47
        }
      ]
    },
    {
      "cell_type": "code",
      "source": [
        "l=[\"bulbasaur_21\",\"coocoo_54\",\"squirtle_42\",\"charmander_09\",\"graudon_69\",\"seviper_68\",\"paras_00\",\"greninja_07\",\"gengar_68\",\"mew_11\",\"rocky_12\",\"onyx_99\",\"raichu_22\",\"hoho_23\",\"palkia_27\",\"charizard_43\"]\n",
        "\n",
        "for v in l[::-1]:\n",
        "  print(v[ -4: :-1])"
      ],
      "metadata": {
        "id": "xilGelY8-WyJ",
        "colab": {
          "base_uri": "https://localhost:8080/"
        },
        "outputId": "af26e541-40e0-43dd-98f4-80adc1d0ab45"
      },
      "execution_count": 75,
      "outputs": [
        {
          "output_type": "stream",
          "name": "stdout",
          "text": [
            "drazirahc\n",
            "aiklap\n",
            "ohoh\n",
            "uhciar\n",
            "xyno\n",
            "ykcor\n",
            "wem\n",
            "ragneg\n",
            "ajninerg\n",
            "sarap\n",
            "repives\n",
            "noduarg\n",
            "rednamrahc\n",
            "eltriuqs\n",
            "oocooc\n",
            "ruasablub\n"
          ]
        }
      ]
    },
    {
      "cell_type": "code",
      "source": [
        "for v in l[::-1]:\n",
        "  print(v[:-3])"
      ],
      "metadata": {
        "colab": {
          "base_uri": "https://localhost:8080/"
        },
        "id": "JafFbyiVWNGj",
        "outputId": "46bec9d8-993c-4f7c-a5a4-041931d2621a"
      },
      "execution_count": 77,
      "outputs": [
        {
          "output_type": "stream",
          "name": "stdout",
          "text": [
            "charizard\n",
            "palkia\n",
            "hoho\n",
            "raichu\n",
            "onyx\n",
            "rocky\n",
            "mew\n",
            "gengar\n",
            "greninja\n",
            "paras\n",
            "seviper\n",
            "graudon\n",
            "charmander\n",
            "squirtle\n",
            "coocoo\n",
            "bulbasaur\n"
          ]
        }
      ]
    },
    {
      "cell_type": "code",
      "source": [
        "for i in l:\n",
        " if i[0]==\"s\":\n",
        "   k=i.find('_')\n",
        "   print(i[:k])\n",
        "  "
      ],
      "metadata": {
        "colab": {
          "base_uri": "https://localhost:8080/"
        },
        "id": "4i7bN3jMUmAS",
        "outputId": "11b1cf38-9bd7-44a5-fad2-77d2fe3b4f55"
      },
      "execution_count": 95,
      "outputs": [
        {
          "output_type": "stream",
          "name": "stdout",
          "text": [
            "squirtle\n",
            "seviper\n"
          ]
        }
      ]
    },
    {
      "cell_type": "code",
      "source": [
        "for i in l[::2]:\n",
        "  l.append(i)\n",
        "print(l)"
      ],
      "metadata": {
        "colab": {
          "base_uri": "https://localhost:8080/"
        },
        "id": "eNzij369iYYv",
        "outputId": "ecd5f5fe-2236-437f-87fe-244d7cdba91d"
      },
      "execution_count": 102,
      "outputs": [
        {
          "output_type": "stream",
          "name": "stdout",
          "text": [
            "['bulbasaur_21', 'coocoo_54', 'squirtle_42', 'charmander_09', 'graudon_69', 'seviper_68', 'paras_00', 'greninja_07', 'gengar_68', 'mew_11', 'rocky_12', 'onyx_99', 'raichu_22', 'hoho_23', 'palkia_27', 'charizard_43', 'bulbasaur_21', 'squirtle_42', 'graudon_69', 'paras_00', 'gengar_68', 'rocky_12', 'raichu_22', 'palkia_27', 'bulbasaur_21', 'squirtle_42', 'graudon_69', 'paras_00', 'gengar_68', 'rocky_12', 'raichu_22', 'palkia_27', 'bulbasaur_21', 'graudon_69', 'gengar_68', 'raichu_22', 'bulbasaur_21', 'squirtle_42', 'graudon_69', 'paras_00', 'gengar_68', 'rocky_12', 'raichu_22', 'palkia_27', 'bulbasaur_21', 'graudon_69', 'gengar_68', 'raichu_22', 'bulbasaur_21', 'graudon_69', 'gengar_68', 'raichu_22', 'bulbasaur_21', 'gengar_68', 'bulbasaur_21', 'squirtle_42', 'graudon_69', 'paras_00', 'gengar_68', 'rocky_12', 'raichu_22', 'palkia_27', 'bulbasaur_21', 'graudon_69', 'gengar_68', 'raichu_22', 'bulbasaur_21', 'graudon_69', 'gengar_68', 'raichu_22', 'bulbasaur_21', 'gengar_68', 'bulbasaur_21', 'graudon_69', 'gengar_68', 'raichu_22', 'bulbasaur_21', 'gengar_68', 'bulbasaur_21', 'gengar_68', 'bulbasaur_21']\n"
          ]
        }
      ]
    }
  ]
}